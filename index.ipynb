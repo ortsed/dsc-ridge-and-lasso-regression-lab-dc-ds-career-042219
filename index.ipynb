{
 "cells": [
  {
   "cell_type": "markdown",
   "metadata": {},
   "source": [
    "# Ridge and Lasso Regression - Lab"
   ]
  },
  {
   "cell_type": "markdown",
   "metadata": {},
   "source": [
    "## Introduction"
   ]
  },
  {
   "cell_type": "markdown",
   "metadata": {},
   "source": [
    "In this lab, you'll practice your knowledge on Ridge and Lasso regression!"
   ]
  },
  {
   "cell_type": "markdown",
   "metadata": {},
   "source": [
    "## Objectives"
   ]
  },
  {
   "cell_type": "markdown",
   "metadata": {},
   "source": [
    "You will be able to:"
   ]
  },
  {
   "cell_type": "markdown",
   "metadata": {},
   "source": [
    "- Use Lasso and ridge regression in Python\n",
    "- Compare Lasso and Ridge with standard regression"
   ]
  },
  {
   "cell_type": "markdown",
   "metadata": {},
   "source": [
    "## Housing Prices Data"
   ]
  },
  {
   "cell_type": "markdown",
   "metadata": {},
   "source": [
    "Let's look at yet another house pricing data set."
   ]
  },
  {
   "cell_type": "code",
   "execution_count": 61,
   "metadata": {},
   "outputs": [],
   "source": [
    "import pandas as pd\n",
    "import warnings\n",
    "warnings.filterwarnings('ignore')\n",
    "\n",
    "df = pd.read_csv('Housing_Prices/train.csv')"
   ]
  },
  {
   "cell_type": "markdown",
   "metadata": {},
   "source": [
    "Look at df.info"
   ]
  },
  {
   "cell_type": "code",
   "execution_count": 4,
   "metadata": {
    "scrolled": true
   },
   "outputs": [
    {
     "name": "stdout",
     "output_type": "stream",
     "text": [
      "<class 'pandas.core.frame.DataFrame'>\n",
      "RangeIndex: 1460 entries, 0 to 1459\n",
      "Data columns (total 81 columns):\n",
      "Id               1460 non-null int64\n",
      "MSSubClass       1460 non-null int64\n",
      "MSZoning         1460 non-null object\n",
      "LotFrontage      1201 non-null float64\n",
      "LotArea          1460 non-null int64\n",
      "Street           1460 non-null object\n",
      "Alley            91 non-null object\n",
      "LotShape         1460 non-null object\n",
      "LandContour      1460 non-null object\n",
      "Utilities        1460 non-null object\n",
      "LotConfig        1460 non-null object\n",
      "LandSlope        1460 non-null object\n",
      "Neighborhood     1460 non-null object\n",
      "Condition1       1460 non-null object\n",
      "Condition2       1460 non-null object\n",
      "BldgType         1460 non-null object\n",
      "HouseStyle       1460 non-null object\n",
      "OverallQual      1460 non-null int64\n",
      "OverallCond      1460 non-null int64\n",
      "YearBuilt        1460 non-null int64\n",
      "YearRemodAdd     1460 non-null int64\n",
      "RoofStyle        1460 non-null object\n",
      "RoofMatl         1460 non-null object\n",
      "Exterior1st      1460 non-null object\n",
      "Exterior2nd      1460 non-null object\n",
      "MasVnrType       1452 non-null object\n",
      "MasVnrArea       1452 non-null float64\n",
      "ExterQual        1460 non-null object\n",
      "ExterCond        1460 non-null object\n",
      "Foundation       1460 non-null object\n",
      "BsmtQual         1423 non-null object\n",
      "BsmtCond         1423 non-null object\n",
      "BsmtExposure     1422 non-null object\n",
      "BsmtFinType1     1423 non-null object\n",
      "BsmtFinSF1       1460 non-null int64\n",
      "BsmtFinType2     1422 non-null object\n",
      "BsmtFinSF2       1460 non-null int64\n",
      "BsmtUnfSF        1460 non-null int64\n",
      "TotalBsmtSF      1460 non-null int64\n",
      "Heating          1460 non-null object\n",
      "HeatingQC        1460 non-null object\n",
      "CentralAir       1460 non-null object\n",
      "Electrical       1459 non-null object\n",
      "1stFlrSF         1460 non-null int64\n",
      "2ndFlrSF         1460 non-null int64\n",
      "LowQualFinSF     1460 non-null int64\n",
      "GrLivArea        1460 non-null int64\n",
      "BsmtFullBath     1460 non-null int64\n",
      "BsmtHalfBath     1460 non-null int64\n",
      "FullBath         1460 non-null int64\n",
      "HalfBath         1460 non-null int64\n",
      "BedroomAbvGr     1460 non-null int64\n",
      "KitchenAbvGr     1460 non-null int64\n",
      "KitchenQual      1460 non-null object\n",
      "TotRmsAbvGrd     1460 non-null int64\n",
      "Functional       1460 non-null object\n",
      "Fireplaces       1460 non-null int64\n",
      "FireplaceQu      770 non-null object\n",
      "GarageType       1379 non-null object\n",
      "GarageYrBlt      1379 non-null float64\n",
      "GarageFinish     1379 non-null object\n",
      "GarageCars       1460 non-null int64\n",
      "GarageArea       1460 non-null int64\n",
      "GarageQual       1379 non-null object\n",
      "GarageCond       1379 non-null object\n",
      "PavedDrive       1460 non-null object\n",
      "WoodDeckSF       1460 non-null int64\n",
      "OpenPorchSF      1460 non-null int64\n",
      "EnclosedPorch    1460 non-null int64\n",
      "3SsnPorch        1460 non-null int64\n",
      "ScreenPorch      1460 non-null int64\n",
      "PoolArea         1460 non-null int64\n",
      "PoolQC           7 non-null object\n",
      "Fence            281 non-null object\n",
      "MiscFeature      54 non-null object\n",
      "MiscVal          1460 non-null int64\n",
      "MoSold           1460 non-null int64\n",
      "YrSold           1460 non-null int64\n",
      "SaleType         1460 non-null object\n",
      "SaleCondition    1460 non-null object\n",
      "SalePrice        1460 non-null int64\n",
      "dtypes: float64(3), int64(35), object(43)\n",
      "memory usage: 924.0+ KB\n"
     ]
    }
   ],
   "source": [
    "info = df.info()"
   ]
  },
  {
   "cell_type": "code",
   "execution_count": 5,
   "metadata": {},
   "outputs": [],
   "source": [
    "flds = [\"Id\", \"1460\", \"non-null\", \"int64\"], [\"MSSubClass\", \"1460\", \"non-null\", \"int64\"], [\"MSZoning\", \"1460\", \"non-null\", \"object\"], [\"LotFrontage\", \"1201\", \"non-null\", \"float64\"], [\"LotArea\", \"1460\", \"non-null\", \"int64\"], [\"Street\", \"1460\", \"non-null\", \"object\"], [\"Alley\", \"91\", \"non-null\", \"object\"], [\"LotShape\", \"1460\", \"non-null\", \"object\"], [\"LandContour\", \"1460\", \"non-null\", \"object\"], [\"Utilities\", \"1460\", \"non-null\", \"object\"], [\"LotConfig\", \"1460\", \"non-null\", \"object\"], [\"LandSlope\", \"1460\", \"non-null\", \"object\"], [\"Neighborhood\", \"1460\", \"non-null\", \"object\"], [\"Condition1\", \"1460\", \"non-null\", \"object\"], [\"Condition2\", \"1460\", \"non-null\", \"object\"], [\"BldgType\", \"1460\", \"non-null\", \"object\"], [\"HouseStyle\", \"1460\", \"non-null\", \"object\"], [\"OverallQual\", \"1460\", \"non-null\", \"int64\"], [\"OverallCond\", \"1460\", \"non-null\", \"int64\"], [\"YearBuilt\", \"1460\", \"non-null\", \"int64\"], [\"YearRemodAdd\", \"1460\", \"non-null\", \"int64\"], [\"RoofStyle\", \"1460\", \"non-null\", \"object\"], [\"RoofMatl\", \"1460\", \"non-null\", \"object\"], [\"Exterior1st\", \"1460\", \"non-null\", \"object\"], [\"Exterior2nd\", \"1460\", \"non-null\", \"object\"], [\"MasVnrType\", \"1452\", \"non-null\", \"object\"], [\"MasVnrArea\", \"1452\", \"non-null\", \"float64\"], [\"ExterQual\", \"1460\", \"non-null\", \"object\"], [\"ExterCond\", \"1460\", \"non-null\", \"object\"], [\"Foundation\", \"1460\", \"non-null\", \"object\"], [\"BsmtQual\", \"1423\", \"non-null\", \"object\"], [\"BsmtCond\", \"1423\", \"non-null\", \"object\"], [\"BsmtExposure\", \"1422\", \"non-null\", \"object\"], [\"BsmtFinType1\", \"1423\", \"non-null\", \"object\"], [\"BsmtFinSF1\", \"1460\", \"non-null\", \"int64\"], [\"BsmtFinType2\", \"1422\", \"non-null\", \"object\"], [\"BsmtFinSF2\", \"1460\", \"non-null\", \"int64\"], [\"BsmtUnfSF\", \"1460\", \"non-null\", \"int64\"], [\"TotalBsmtSF\", \"1460\", \"non-null\", \"int64\"], [\"Heating\", \"1460\", \"non-null\", \"object\"], [\"HeatingQC\", \"1460\", \"non-null\", \"object\"], [\"CentralAir\", \"1460\", \"non-null\", \"object\"], [\"Electrical\", \"1459\", \"non-null\", \"object\"], [\"1stFlrSF\", \"1460\", \"non-null\", \"int64\"], [\"2ndFlrSF\", \"1460\", \"non-null\", \"int64\"], [\"LowQualFinSF\", \"1460\", \"non-null\", \"int64\"], [\"GrLivArea\", \"1460\", \"non-null\", \"int64\"], [\"BsmtFullBath\", \"1460\", \"non-null\", \"int64\"], [\"BsmtHalfBath\", \"1460\", \"non-null\", \"int64\"], [\"FullBath\", \"1460\", \"non-null\", \"int64\"], [\"HalfBath\", \"1460\", \"non-null\", \"int64\"], [\"BedroomAbvGr\", \"1460\", \"non-null\", \"int64\"], [\"KitchenAbvGr\", \"1460\", \"non-null\", \"int64\"], [\"KitchenQual\", \"1460\", \"non-null\", \"object\"], [\"TotRmsAbvGrd\", \"1460\", \"non-null\", \"int64\"], [\"Functional\", \"1460\", \"non-null\", \"object\"], [\"Fireplaces\", \"1460\", \"non-null\", \"int64\"], [\"FireplaceQu\", \"770\", \"non-null\", \"object\"], [\"GarageType\", \"1379\", \"non-null\", \"object\"], [\"GarageYrBlt\", \"1379\", \"non-null\", \"float64\"], [\"GarageFinish\", \"1379\", \"non-null\", \"object\"], [\"GarageCars\", \"1460\", \"non-null\", \"int64\"], [\"GarageArea\", \"1460\", \"non-null\", \"int64\"], [\"GarageQual\", \"1379\", \"non-null\", \"object\"], [\"GarageCond\", \"1379\", \"non-null\", \"object\"], [\"PavedDrive\", \"1460\", \"non-null\", \"object\"], [\"WoodDeckSF\", \"1460\", \"non-null\", \"int64\"], [\"OpenPorchSF\", \"1460\", \"non-null\", \"int64\"], [\"EnclosedPorch\", \"1460\", \"non-null\", \"int64\"], [\"3SsnPorch\", \"1460\", \"non-null\", \"int64\"], [\"ScreenPorch\", \"1460\", \"non-null\", \"int64\"], [\"PoolArea\", \"1460\", \"non-null\", \"int64\"], [\"PoolQC\", \"7\", \"non-null\", \"object\"], [\"Fence\", \"281\", \"non-null\", \"object\"], [\"MiscFeature\", \"54\", \"non-null\", \"object\"], [\"MiscVal\", \"1460\", \"non-null\", \"int64\"], [\"MoSold\", \"1460\", \"non-null\", \"int64\"], [\"YrSold\", \"1460\", \"non-null\", \"int64\"], [\"SaleType\", \"1460\", \"non-null\", \"object\"], [\"SaleCondition\", \"1460\", \"non-null\", \"object\"], [\"SalePrice\", \"1460\", \"non-null\", \"int64\"]"
   ]
  },
  {
   "cell_type": "code",
   "execution_count": 6,
   "metadata": {},
   "outputs": [],
   "source": [
    "cols = []\n",
    "for fld in flds:\n",
    "    if fld[3] !=\"object\": cols.append(fld[0])"
   ]
  },
  {
   "cell_type": "code",
   "execution_count": 7,
   "metadata": {},
   "outputs": [],
   "source": [
    "df = df[cols]"
   ]
  },
  {
   "cell_type": "code",
   "execution_count": 8,
   "metadata": {
    "scrolled": true
   },
   "outputs": [
    {
     "data": {
      "text/html": [
       "<div>\n",
       "<style scoped>\n",
       "    .dataframe tbody tr th:only-of-type {\n",
       "        vertical-align: middle;\n",
       "    }\n",
       "\n",
       "    .dataframe tbody tr th {\n",
       "        vertical-align: top;\n",
       "    }\n",
       "\n",
       "    .dataframe thead th {\n",
       "        text-align: right;\n",
       "    }\n",
       "</style>\n",
       "<table border=\"1\" class=\"dataframe\">\n",
       "  <thead>\n",
       "    <tr style=\"text-align: right;\">\n",
       "      <th></th>\n",
       "      <th>Id</th>\n",
       "      <th>MSSubClass</th>\n",
       "      <th>LotFrontage</th>\n",
       "      <th>LotArea</th>\n",
       "      <th>OverallQual</th>\n",
       "      <th>OverallCond</th>\n",
       "      <th>YearBuilt</th>\n",
       "      <th>YearRemodAdd</th>\n",
       "      <th>MasVnrArea</th>\n",
       "      <th>BsmtFinSF1</th>\n",
       "      <th>...</th>\n",
       "      <th>WoodDeckSF</th>\n",
       "      <th>OpenPorchSF</th>\n",
       "      <th>EnclosedPorch</th>\n",
       "      <th>3SsnPorch</th>\n",
       "      <th>ScreenPorch</th>\n",
       "      <th>PoolArea</th>\n",
       "      <th>MiscVal</th>\n",
       "      <th>MoSold</th>\n",
       "      <th>YrSold</th>\n",
       "      <th>SalePrice</th>\n",
       "    </tr>\n",
       "  </thead>\n",
       "  <tbody>\n",
       "    <tr>\n",
       "      <th>0</th>\n",
       "      <td>1</td>\n",
       "      <td>60</td>\n",
       "      <td>65.0</td>\n",
       "      <td>8450</td>\n",
       "      <td>7</td>\n",
       "      <td>5</td>\n",
       "      <td>2003</td>\n",
       "      <td>2003</td>\n",
       "      <td>196.0</td>\n",
       "      <td>706</td>\n",
       "      <td>...</td>\n",
       "      <td>0</td>\n",
       "      <td>61</td>\n",
       "      <td>0</td>\n",
       "      <td>0</td>\n",
       "      <td>0</td>\n",
       "      <td>0</td>\n",
       "      <td>0</td>\n",
       "      <td>2</td>\n",
       "      <td>2008</td>\n",
       "      <td>208500</td>\n",
       "    </tr>\n",
       "    <tr>\n",
       "      <th>1</th>\n",
       "      <td>2</td>\n",
       "      <td>20</td>\n",
       "      <td>80.0</td>\n",
       "      <td>9600</td>\n",
       "      <td>6</td>\n",
       "      <td>8</td>\n",
       "      <td>1976</td>\n",
       "      <td>1976</td>\n",
       "      <td>0.0</td>\n",
       "      <td>978</td>\n",
       "      <td>...</td>\n",
       "      <td>298</td>\n",
       "      <td>0</td>\n",
       "      <td>0</td>\n",
       "      <td>0</td>\n",
       "      <td>0</td>\n",
       "      <td>0</td>\n",
       "      <td>0</td>\n",
       "      <td>5</td>\n",
       "      <td>2007</td>\n",
       "      <td>181500</td>\n",
       "    </tr>\n",
       "    <tr>\n",
       "      <th>2</th>\n",
       "      <td>3</td>\n",
       "      <td>60</td>\n",
       "      <td>68.0</td>\n",
       "      <td>11250</td>\n",
       "      <td>7</td>\n",
       "      <td>5</td>\n",
       "      <td>2001</td>\n",
       "      <td>2002</td>\n",
       "      <td>162.0</td>\n",
       "      <td>486</td>\n",
       "      <td>...</td>\n",
       "      <td>0</td>\n",
       "      <td>42</td>\n",
       "      <td>0</td>\n",
       "      <td>0</td>\n",
       "      <td>0</td>\n",
       "      <td>0</td>\n",
       "      <td>0</td>\n",
       "      <td>9</td>\n",
       "      <td>2008</td>\n",
       "      <td>223500</td>\n",
       "    </tr>\n",
       "    <tr>\n",
       "      <th>3</th>\n",
       "      <td>4</td>\n",
       "      <td>70</td>\n",
       "      <td>60.0</td>\n",
       "      <td>9550</td>\n",
       "      <td>7</td>\n",
       "      <td>5</td>\n",
       "      <td>1915</td>\n",
       "      <td>1970</td>\n",
       "      <td>0.0</td>\n",
       "      <td>216</td>\n",
       "      <td>...</td>\n",
       "      <td>0</td>\n",
       "      <td>35</td>\n",
       "      <td>272</td>\n",
       "      <td>0</td>\n",
       "      <td>0</td>\n",
       "      <td>0</td>\n",
       "      <td>0</td>\n",
       "      <td>2</td>\n",
       "      <td>2006</td>\n",
       "      <td>140000</td>\n",
       "    </tr>\n",
       "    <tr>\n",
       "      <th>4</th>\n",
       "      <td>5</td>\n",
       "      <td>60</td>\n",
       "      <td>84.0</td>\n",
       "      <td>14260</td>\n",
       "      <td>8</td>\n",
       "      <td>5</td>\n",
       "      <td>2000</td>\n",
       "      <td>2000</td>\n",
       "      <td>350.0</td>\n",
       "      <td>655</td>\n",
       "      <td>...</td>\n",
       "      <td>192</td>\n",
       "      <td>84</td>\n",
       "      <td>0</td>\n",
       "      <td>0</td>\n",
       "      <td>0</td>\n",
       "      <td>0</td>\n",
       "      <td>0</td>\n",
       "      <td>12</td>\n",
       "      <td>2008</td>\n",
       "      <td>250000</td>\n",
       "    </tr>\n",
       "  </tbody>\n",
       "</table>\n",
       "<p>5 rows × 38 columns</p>\n",
       "</div>"
      ],
      "text/plain": [
       "   Id  MSSubClass  LotFrontage  LotArea  OverallQual  OverallCond  YearBuilt  \\\n",
       "0   1          60         65.0     8450            7            5       2003   \n",
       "1   2          20         80.0     9600            6            8       1976   \n",
       "2   3          60         68.0    11250            7            5       2001   \n",
       "3   4          70         60.0     9550            7            5       1915   \n",
       "4   5          60         84.0    14260            8            5       2000   \n",
       "\n",
       "   YearRemodAdd  MasVnrArea  BsmtFinSF1    ...      WoodDeckSF  OpenPorchSF  \\\n",
       "0          2003       196.0         706    ...               0           61   \n",
       "1          1976         0.0         978    ...             298            0   \n",
       "2          2002       162.0         486    ...               0           42   \n",
       "3          1970         0.0         216    ...               0           35   \n",
       "4          2000       350.0         655    ...             192           84   \n",
       "\n",
       "   EnclosedPorch  3SsnPorch  ScreenPorch  PoolArea  MiscVal  MoSold  YrSold  \\\n",
       "0              0          0            0         0        0       2    2008   \n",
       "1              0          0            0         0        0       5    2007   \n",
       "2              0          0            0         0        0       9    2008   \n",
       "3            272          0            0         0        0       2    2006   \n",
       "4              0          0            0         0        0      12    2008   \n",
       "\n",
       "   SalePrice  \n",
       "0     208500  \n",
       "1     181500  \n",
       "2     223500  \n",
       "3     140000  \n",
       "4     250000  \n",
       "\n",
       "[5 rows x 38 columns]"
      ]
     },
     "execution_count": 8,
     "metadata": {},
     "output_type": "execute_result"
    }
   ],
   "source": [
    "df.head()"
   ]
  },
  {
   "cell_type": "code",
   "execution_count": 10,
   "metadata": {},
   "outputs": [
    {
     "data": {
      "text/plain": [
       "Id               0.0\n",
       "MSSubClass       0.0\n",
       "LotFrontage      0.0\n",
       "LotArea          0.0\n",
       "OverallQual      0.0\n",
       "OverallCond      0.0\n",
       "YearBuilt        0.0\n",
       "YearRemodAdd     0.0\n",
       "MasVnrArea       0.0\n",
       "BsmtFinSF1       0.0\n",
       "BsmtFinSF2       0.0\n",
       "BsmtUnfSF        0.0\n",
       "TotalBsmtSF      0.0\n",
       "1stFlrSF         0.0\n",
       "2ndFlrSF         0.0\n",
       "LowQualFinSF     0.0\n",
       "GrLivArea        0.0\n",
       "BsmtFullBath     0.0\n",
       "BsmtHalfBath     0.0\n",
       "FullBath         0.0\n",
       "HalfBath         0.0\n",
       "BedroomAbvGr     0.0\n",
       "KitchenAbvGr     0.0\n",
       "TotRmsAbvGrd     0.0\n",
       "Fireplaces       0.0\n",
       "GarageYrBlt      0.0\n",
       "GarageCars       0.0\n",
       "GarageArea       0.0\n",
       "WoodDeckSF       0.0\n",
       "OpenPorchSF      0.0\n",
       "EnclosedPorch    0.0\n",
       "3SsnPorch        0.0\n",
       "ScreenPorch      0.0\n",
       "PoolArea         0.0\n",
       "MiscVal          0.0\n",
       "MoSold           0.0\n",
       "YrSold           0.0\n",
       "SalePrice        0.0\n",
       "dtype: float64"
      ]
     },
     "execution_count": 10,
     "metadata": {},
     "output_type": "execute_result"
    }
   ],
   "source": [
    "df[df.isna()].sum()"
   ]
  },
  {
   "cell_type": "markdown",
   "metadata": {},
   "source": [
    "First, make a selection of the data by removing some of the data with `dtype = object`, this way our first model only contains **continuous features**\n",
    "\n",
    "Make sure to remove the SalesPrice column from the predictors (which you store in `X`), then replace missing inputs by the median per feature.\n",
    "\n",
    "Store the target in `y`."
   ]
  },
  {
   "cell_type": "code",
   "execution_count": 25,
   "metadata": {},
   "outputs": [],
   "source": [
    "# Load necessary packages\n",
    "\n",
    "\n",
    "# remove \"object\"-type features and SalesPrice from `X`\n",
    "\n",
    "\n",
    "# Impute null values\n",
    "\n",
    "\n",
    "# Create y\n",
    "cols_no_price = [x for x in df.columns if x !=\"SalePrice\"]\n",
    "X = df[cols_no_price]\n",
    "y = df[\"SalePrice\"]"
   ]
  },
  {
   "cell_type": "markdown",
   "metadata": {},
   "source": [
    "Look at the information of `X` again"
   ]
  },
  {
   "cell_type": "code",
   "execution_count": 13,
   "metadata": {},
   "outputs": [
    {
     "data": {
      "text/html": [
       "<div>\n",
       "<style scoped>\n",
       "    .dataframe tbody tr th:only-of-type {\n",
       "        vertical-align: middle;\n",
       "    }\n",
       "\n",
       "    .dataframe tbody tr th {\n",
       "        vertical-align: top;\n",
       "    }\n",
       "\n",
       "    .dataframe thead th {\n",
       "        text-align: right;\n",
       "    }\n",
       "</style>\n",
       "<table border=\"1\" class=\"dataframe\">\n",
       "  <thead>\n",
       "    <tr style=\"text-align: right;\">\n",
       "      <th></th>\n",
       "      <th>Id</th>\n",
       "      <th>MSSubClass</th>\n",
       "      <th>LotFrontage</th>\n",
       "      <th>LotArea</th>\n",
       "      <th>OverallQual</th>\n",
       "      <th>OverallCond</th>\n",
       "      <th>YearBuilt</th>\n",
       "      <th>YearRemodAdd</th>\n",
       "      <th>MasVnrArea</th>\n",
       "      <th>BsmtFinSF1</th>\n",
       "      <th>...</th>\n",
       "      <th>GarageArea</th>\n",
       "      <th>WoodDeckSF</th>\n",
       "      <th>OpenPorchSF</th>\n",
       "      <th>EnclosedPorch</th>\n",
       "      <th>3SsnPorch</th>\n",
       "      <th>ScreenPorch</th>\n",
       "      <th>PoolArea</th>\n",
       "      <th>MiscVal</th>\n",
       "      <th>MoSold</th>\n",
       "      <th>YrSold</th>\n",
       "    </tr>\n",
       "  </thead>\n",
       "  <tbody>\n",
       "    <tr>\n",
       "      <th>0</th>\n",
       "      <td>1</td>\n",
       "      <td>60</td>\n",
       "      <td>65.0</td>\n",
       "      <td>8450</td>\n",
       "      <td>7</td>\n",
       "      <td>5</td>\n",
       "      <td>2003</td>\n",
       "      <td>2003</td>\n",
       "      <td>196.0</td>\n",
       "      <td>706</td>\n",
       "      <td>...</td>\n",
       "      <td>548</td>\n",
       "      <td>0</td>\n",
       "      <td>61</td>\n",
       "      <td>0</td>\n",
       "      <td>0</td>\n",
       "      <td>0</td>\n",
       "      <td>0</td>\n",
       "      <td>0</td>\n",
       "      <td>2</td>\n",
       "      <td>2008</td>\n",
       "    </tr>\n",
       "    <tr>\n",
       "      <th>1</th>\n",
       "      <td>2</td>\n",
       "      <td>20</td>\n",
       "      <td>80.0</td>\n",
       "      <td>9600</td>\n",
       "      <td>6</td>\n",
       "      <td>8</td>\n",
       "      <td>1976</td>\n",
       "      <td>1976</td>\n",
       "      <td>0.0</td>\n",
       "      <td>978</td>\n",
       "      <td>...</td>\n",
       "      <td>460</td>\n",
       "      <td>298</td>\n",
       "      <td>0</td>\n",
       "      <td>0</td>\n",
       "      <td>0</td>\n",
       "      <td>0</td>\n",
       "      <td>0</td>\n",
       "      <td>0</td>\n",
       "      <td>5</td>\n",
       "      <td>2007</td>\n",
       "    </tr>\n",
       "    <tr>\n",
       "      <th>2</th>\n",
       "      <td>3</td>\n",
       "      <td>60</td>\n",
       "      <td>68.0</td>\n",
       "      <td>11250</td>\n",
       "      <td>7</td>\n",
       "      <td>5</td>\n",
       "      <td>2001</td>\n",
       "      <td>2002</td>\n",
       "      <td>162.0</td>\n",
       "      <td>486</td>\n",
       "      <td>...</td>\n",
       "      <td>608</td>\n",
       "      <td>0</td>\n",
       "      <td>42</td>\n",
       "      <td>0</td>\n",
       "      <td>0</td>\n",
       "      <td>0</td>\n",
       "      <td>0</td>\n",
       "      <td>0</td>\n",
       "      <td>9</td>\n",
       "      <td>2008</td>\n",
       "    </tr>\n",
       "    <tr>\n",
       "      <th>3</th>\n",
       "      <td>4</td>\n",
       "      <td>70</td>\n",
       "      <td>60.0</td>\n",
       "      <td>9550</td>\n",
       "      <td>7</td>\n",
       "      <td>5</td>\n",
       "      <td>1915</td>\n",
       "      <td>1970</td>\n",
       "      <td>0.0</td>\n",
       "      <td>216</td>\n",
       "      <td>...</td>\n",
       "      <td>642</td>\n",
       "      <td>0</td>\n",
       "      <td>35</td>\n",
       "      <td>272</td>\n",
       "      <td>0</td>\n",
       "      <td>0</td>\n",
       "      <td>0</td>\n",
       "      <td>0</td>\n",
       "      <td>2</td>\n",
       "      <td>2006</td>\n",
       "    </tr>\n",
       "    <tr>\n",
       "      <th>4</th>\n",
       "      <td>5</td>\n",
       "      <td>60</td>\n",
       "      <td>84.0</td>\n",
       "      <td>14260</td>\n",
       "      <td>8</td>\n",
       "      <td>5</td>\n",
       "      <td>2000</td>\n",
       "      <td>2000</td>\n",
       "      <td>350.0</td>\n",
       "      <td>655</td>\n",
       "      <td>...</td>\n",
       "      <td>836</td>\n",
       "      <td>192</td>\n",
       "      <td>84</td>\n",
       "      <td>0</td>\n",
       "      <td>0</td>\n",
       "      <td>0</td>\n",
       "      <td>0</td>\n",
       "      <td>0</td>\n",
       "      <td>12</td>\n",
       "      <td>2008</td>\n",
       "    </tr>\n",
       "  </tbody>\n",
       "</table>\n",
       "<p>5 rows × 37 columns</p>\n",
       "</div>"
      ],
      "text/plain": [
       "   Id  MSSubClass  LotFrontage  LotArea  OverallQual  OverallCond  YearBuilt  \\\n",
       "0   1          60         65.0     8450            7            5       2003   \n",
       "1   2          20         80.0     9600            6            8       1976   \n",
       "2   3          60         68.0    11250            7            5       2001   \n",
       "3   4          70         60.0     9550            7            5       1915   \n",
       "4   5          60         84.0    14260            8            5       2000   \n",
       "\n",
       "   YearRemodAdd  MasVnrArea  BsmtFinSF1   ...    GarageArea  WoodDeckSF  \\\n",
       "0          2003       196.0         706   ...           548           0   \n",
       "1          1976         0.0         978   ...           460         298   \n",
       "2          2002       162.0         486   ...           608           0   \n",
       "3          1970         0.0         216   ...           642           0   \n",
       "4          2000       350.0         655   ...           836         192   \n",
       "\n",
       "   OpenPorchSF  EnclosedPorch  3SsnPorch  ScreenPorch  PoolArea  MiscVal  \\\n",
       "0           61              0          0            0         0        0   \n",
       "1            0              0          0            0         0        0   \n",
       "2           42              0          0            0         0        0   \n",
       "3           35            272          0            0         0        0   \n",
       "4           84              0          0            0         0        0   \n",
       "\n",
       "   MoSold  YrSold  \n",
       "0       2    2008  \n",
       "1       5    2007  \n",
       "2       9    2008  \n",
       "3       2    2006  \n",
       "4      12    2008  \n",
       "\n",
       "[5 rows x 37 columns]"
      ]
     },
     "execution_count": 13,
     "metadata": {},
     "output_type": "execute_result"
    }
   ],
   "source": [
    "X.head()"
   ]
  },
  {
   "cell_type": "markdown",
   "metadata": {},
   "source": [
    "## Let's use this data to perform a first naive linear regression model"
   ]
  },
  {
   "cell_type": "markdown",
   "metadata": {},
   "source": [
    "Compute the R squared and the MSE for both train and test set."
   ]
  },
  {
   "cell_type": "code",
   "execution_count": 16,
   "metadata": {},
   "outputs": [],
   "source": [
    "from sklearn.model_selection import train_test_split\n",
    "from sklearn.metrics import mean_squared_error, mean_squared_log_error\n",
    "from sklearn.linear_model import LinearRegression"
   ]
  },
  {
   "cell_type": "code",
   "execution_count": 26,
   "metadata": {},
   "outputs": [],
   "source": [
    "\n",
    "# Split in train and test\n",
    "X_train, X_test, y_train, y_test = train_test_split(X, y, test_size = 0.2)\n",
    "\n"
   ]
  },
  {
   "cell_type": "code",
   "execution_count": 20,
   "metadata": {},
   "outputs": [
    {
     "data": {
      "text/plain": [
       "1460"
      ]
     },
     "execution_count": 20,
     "metadata": {},
     "output_type": "execute_result"
    }
   ],
   "source": [
    "len(df)"
   ]
  },
  {
   "cell_type": "code",
   "execution_count": 62,
   "metadata": {},
   "outputs": [],
   "source": [
    "import numpy as np\n",
    "df = df.replace([np.inf, -np.inf], np.nan).dropna()\n"
   ]
  },
  {
   "cell_type": "code",
   "execution_count": 27,
   "metadata": {},
   "outputs": [
    {
     "data": {
      "text/plain": [
       "LinearRegression(copy_X=True, fit_intercept=True, n_jobs=None,\n",
       "         normalize=False)"
      ]
     },
     "execution_count": 27,
     "metadata": {},
     "output_type": "execute_result"
    }
   ],
   "source": [
    "# Fit the model and print R2 and MSE for train and test\n",
    "model = LinearRegression()\n",
    "model.fit(X_train, y_train)"
   ]
  },
  {
   "cell_type": "code",
   "execution_count": 28,
   "metadata": {},
   "outputs": [
    {
     "data": {
      "text/plain": [
       "0.8191899776208246"
      ]
     },
     "execution_count": 28,
     "metadata": {},
     "output_type": "execute_result"
    }
   ],
   "source": [
    "model.score(X_train, y_train)\n"
   ]
  },
  {
   "cell_type": "code",
   "execution_count": 30,
   "metadata": {},
   "outputs": [
    {
     "name": "stdout",
     "output_type": "stream",
     "text": [
      "1251811995.3268216\n",
      "0.04231375608471067\n"
     ]
    }
   ],
   "source": [
    "y_train_pred = model.predict(X_train)\n",
    "print(mean_squared_error(y_train, y_train_pred))\n",
    "print(mean_squared_log_error(y_train, y_train_pred))"
   ]
  },
  {
   "cell_type": "code",
   "execution_count": 31,
   "metadata": {},
   "outputs": [
    {
     "name": "stdout",
     "output_type": "stream",
     "text": [
      "0.7473981478383795\n",
      "1689426853.507158\n",
      "0.035889463169952354\n"
     ]
    }
   ],
   "source": [
    "print(model.score(X_test, y_test))\n",
    "y_test_pred = model.predict(X_test)\n",
    "print(mean_squared_error(y_test, y_test_pred))\n",
    "print(mean_squared_log_error(y_test, y_test_pred))"
   ]
  },
  {
   "cell_type": "markdown",
   "metadata": {},
   "source": [
    "## Normalize your data"
   ]
  },
  {
   "cell_type": "markdown",
   "metadata": {},
   "source": [
    "We haven't normalized our data, let's create a new model that uses `preprocessing.scale` to scale our predictors!"
   ]
  },
  {
   "cell_type": "code",
   "execution_count": 32,
   "metadata": {},
   "outputs": [],
   "source": [
    "from sklearn import preprocessing\n",
    "\n",
    "# Scale the data and perform train test split\n",
    "\n"
   ]
  },
  {
   "cell_type": "code",
   "execution_count": 41,
   "metadata": {},
   "outputs": [],
   "source": [
    "df_scale = preprocessing.scale(df)"
   ]
  },
  {
   "cell_type": "code",
   "execution_count": 42,
   "metadata": {},
   "outputs": [],
   "source": [
    "df_scale = pd.DataFrame(df_scale)"
   ]
  },
  {
   "cell_type": "code",
   "execution_count": 43,
   "metadata": {},
   "outputs": [],
   "source": [
    "df_scale.columns = df.columns"
   ]
  },
  {
   "cell_type": "code",
   "execution_count": 44,
   "metadata": {
    "scrolled": true
   },
   "outputs": [
    {
     "data": {
      "text/html": [
       "<div>\n",
       "<style scoped>\n",
       "    .dataframe tbody tr th:only-of-type {\n",
       "        vertical-align: middle;\n",
       "    }\n",
       "\n",
       "    .dataframe tbody tr th {\n",
       "        vertical-align: top;\n",
       "    }\n",
       "\n",
       "    .dataframe thead th {\n",
       "        text-align: right;\n",
       "    }\n",
       "</style>\n",
       "<table border=\"1\" class=\"dataframe\">\n",
       "  <thead>\n",
       "    <tr style=\"text-align: right;\">\n",
       "      <th></th>\n",
       "      <th>Id</th>\n",
       "      <th>MSSubClass</th>\n",
       "      <th>LotFrontage</th>\n",
       "      <th>LotArea</th>\n",
       "      <th>OverallQual</th>\n",
       "      <th>OverallCond</th>\n",
       "      <th>YearBuilt</th>\n",
       "      <th>YearRemodAdd</th>\n",
       "      <th>MasVnrArea</th>\n",
       "      <th>BsmtFinSF1</th>\n",
       "      <th>...</th>\n",
       "      <th>WoodDeckSF</th>\n",
       "      <th>OpenPorchSF</th>\n",
       "      <th>EnclosedPorch</th>\n",
       "      <th>3SsnPorch</th>\n",
       "      <th>ScreenPorch</th>\n",
       "      <th>PoolArea</th>\n",
       "      <th>MiscVal</th>\n",
       "      <th>MoSold</th>\n",
       "      <th>YrSold</th>\n",
       "      <th>SalePrice</th>\n",
       "    </tr>\n",
       "  </thead>\n",
       "  <tbody>\n",
       "    <tr>\n",
       "      <th>0</th>\n",
       "      <td>-1.725807</td>\n",
       "      <td>0.092295</td>\n",
       "      <td>-0.233570</td>\n",
       "      <td>-0.205885</td>\n",
       "      <td>0.570704</td>\n",
       "      <td>-0.525499</td>\n",
       "      <td>0.992930</td>\n",
       "      <td>0.823953</td>\n",
       "      <td>0.462009</td>\n",
       "      <td>0.571581</td>\n",
       "      <td>...</td>\n",
       "      <td>-0.760257</td>\n",
       "      <td>0.231036</td>\n",
       "      <td>-0.356622</td>\n",
       "      <td>-0.11253</td>\n",
       "      <td>-0.278676</td>\n",
       "      <td>-0.072999</td>\n",
       "      <td>-0.141407</td>\n",
       "      <td>-1.615345</td>\n",
       "      <td>0.153084</td>\n",
       "      <td>0.277161</td>\n",
       "    </tr>\n",
       "    <tr>\n",
       "      <th>1</th>\n",
       "      <td>-1.723429</td>\n",
       "      <td>-0.865696</td>\n",
       "      <td>0.384834</td>\n",
       "      <td>-0.064358</td>\n",
       "      <td>-0.153825</td>\n",
       "      <td>2.284122</td>\n",
       "      <td>0.120665</td>\n",
       "      <td>-0.460746</td>\n",
       "      <td>-0.572748</td>\n",
       "      <td>1.152559</td>\n",
       "      <td>...</td>\n",
       "      <td>1.686090</td>\n",
       "      <td>-0.716739</td>\n",
       "      <td>-0.356622</td>\n",
       "      <td>-0.11253</td>\n",
       "      <td>-0.278676</td>\n",
       "      <td>-0.072999</td>\n",
       "      <td>-0.141407</td>\n",
       "      <td>-0.498715</td>\n",
       "      <td>-0.596291</td>\n",
       "      <td>-0.048289</td>\n",
       "    </tr>\n",
       "    <tr>\n",
       "      <th>2</th>\n",
       "      <td>-1.721052</td>\n",
       "      <td>0.092295</td>\n",
       "      <td>-0.109889</td>\n",
       "      <td>0.138702</td>\n",
       "      <td>0.570704</td>\n",
       "      <td>-0.525499</td>\n",
       "      <td>0.928317</td>\n",
       "      <td>0.776371</td>\n",
       "      <td>0.282510</td>\n",
       "      <td>0.101672</td>\n",
       "      <td>...</td>\n",
       "      <td>-0.760257</td>\n",
       "      <td>-0.064173</td>\n",
       "      <td>-0.356622</td>\n",
       "      <td>-0.11253</td>\n",
       "      <td>-0.278676</td>\n",
       "      <td>-0.072999</td>\n",
       "      <td>-0.141407</td>\n",
       "      <td>0.990125</td>\n",
       "      <td>0.153084</td>\n",
       "      <td>0.457966</td>\n",
       "    </tr>\n",
       "    <tr>\n",
       "      <th>3</th>\n",
       "      <td>-1.718674</td>\n",
       "      <td>0.331793</td>\n",
       "      <td>-0.439705</td>\n",
       "      <td>-0.070512</td>\n",
       "      <td>0.570704</td>\n",
       "      <td>-0.525499</td>\n",
       "      <td>-1.850006</td>\n",
       "      <td>-0.746235</td>\n",
       "      <td>-0.572748</td>\n",
       "      <td>-0.475034</td>\n",
       "      <td>...</td>\n",
       "      <td>-0.760257</td>\n",
       "      <td>-0.172934</td>\n",
       "      <td>4.083851</td>\n",
       "      <td>-0.11253</td>\n",
       "      <td>-0.278676</td>\n",
       "      <td>-0.072999</td>\n",
       "      <td>-0.141407</td>\n",
       "      <td>-1.615345</td>\n",
       "      <td>-1.345665</td>\n",
       "      <td>-0.548517</td>\n",
       "    </tr>\n",
       "    <tr>\n",
       "      <th>4</th>\n",
       "      <td>-1.716296</td>\n",
       "      <td>0.092295</td>\n",
       "      <td>0.549742</td>\n",
       "      <td>0.509132</td>\n",
       "      <td>1.295234</td>\n",
       "      <td>-0.525499</td>\n",
       "      <td>0.896011</td>\n",
       "      <td>0.681208</td>\n",
       "      <td>1.275032</td>\n",
       "      <td>0.462647</td>\n",
       "      <td>...</td>\n",
       "      <td>0.815913</td>\n",
       "      <td>0.588393</td>\n",
       "      <td>-0.356622</td>\n",
       "      <td>-0.11253</td>\n",
       "      <td>-0.278676</td>\n",
       "      <td>-0.072999</td>\n",
       "      <td>-0.141407</td>\n",
       "      <td>2.106755</td>\n",
       "      <td>0.153084</td>\n",
       "      <td>0.777389</td>\n",
       "    </tr>\n",
       "  </tbody>\n",
       "</table>\n",
       "<p>5 rows × 38 columns</p>\n",
       "</div>"
      ],
      "text/plain": [
       "         Id  MSSubClass  LotFrontage   LotArea  OverallQual  OverallCond  \\\n",
       "0 -1.725807    0.092295    -0.233570 -0.205885     0.570704    -0.525499   \n",
       "1 -1.723429   -0.865696     0.384834 -0.064358    -0.153825     2.284122   \n",
       "2 -1.721052    0.092295    -0.109889  0.138702     0.570704    -0.525499   \n",
       "3 -1.718674    0.331793    -0.439705 -0.070512     0.570704    -0.525499   \n",
       "4 -1.716296    0.092295     0.549742  0.509132     1.295234    -0.525499   \n",
       "\n",
       "   YearBuilt  YearRemodAdd  MasVnrArea  BsmtFinSF1    ...      WoodDeckSF  \\\n",
       "0   0.992930      0.823953    0.462009    0.571581    ...       -0.760257   \n",
       "1   0.120665     -0.460746   -0.572748    1.152559    ...        1.686090   \n",
       "2   0.928317      0.776371    0.282510    0.101672    ...       -0.760257   \n",
       "3  -1.850006     -0.746235   -0.572748   -0.475034    ...       -0.760257   \n",
       "4   0.896011      0.681208    1.275032    0.462647    ...        0.815913   \n",
       "\n",
       "   OpenPorchSF  EnclosedPorch  3SsnPorch  ScreenPorch  PoolArea   MiscVal  \\\n",
       "0     0.231036      -0.356622   -0.11253    -0.278676 -0.072999 -0.141407   \n",
       "1    -0.716739      -0.356622   -0.11253    -0.278676 -0.072999 -0.141407   \n",
       "2    -0.064173      -0.356622   -0.11253    -0.278676 -0.072999 -0.141407   \n",
       "3    -0.172934       4.083851   -0.11253    -0.278676 -0.072999 -0.141407   \n",
       "4     0.588393      -0.356622   -0.11253    -0.278676 -0.072999 -0.141407   \n",
       "\n",
       "     MoSold    YrSold  SalePrice  \n",
       "0 -1.615345  0.153084   0.277161  \n",
       "1 -0.498715 -0.596291  -0.048289  \n",
       "2  0.990125  0.153084   0.457966  \n",
       "3 -1.615345 -1.345665  -0.548517  \n",
       "4  2.106755  0.153084   0.777389  \n",
       "\n",
       "[5 rows x 38 columns]"
      ]
     },
     "execution_count": 44,
     "metadata": {},
     "output_type": "execute_result"
    }
   ],
   "source": [
    "df_scale.head()"
   ]
  },
  {
   "cell_type": "code",
   "execution_count": 39,
   "metadata": {},
   "outputs": [],
   "source": []
  },
  {
   "cell_type": "code",
   "execution_count": 45,
   "metadata": {},
   "outputs": [],
   "source": [
    "X = df_scale[cols_no_price]\n",
    "y = df_scale[\"SalePrice\"]\n",
    "X = X.drop(columns=[\"Id\"])\n",
    "X_train, X_test, y_train, y_test = train_test_split(X, y, test_size = 0.2)\n"
   ]
  },
  {
   "cell_type": "markdown",
   "metadata": {},
   "source": [
    "Perform the same linear regression on this data and print out R-squared and MSE."
   ]
  },
  {
   "cell_type": "code",
   "execution_count": 46,
   "metadata": {},
   "outputs": [
    {
     "data": {
      "text/plain": [
       "LinearRegression(copy_X=True, fit_intercept=True, n_jobs=None,\n",
       "         normalize=False)"
      ]
     },
     "execution_count": 46,
     "metadata": {},
     "output_type": "execute_result"
    }
   ],
   "source": [
    "# Fit the model and print R2 and MSE for train and test\n",
    "model = LinearRegression()\n",
    "model.fit(X_train, y_train)"
   ]
  },
  {
   "cell_type": "code",
   "execution_count": 48,
   "metadata": {},
   "outputs": [
    {
     "name": "stdout",
     "output_type": "stream",
     "text": [
      "0.7994780350355852\n",
      "0.20909774417420746\n"
     ]
    }
   ],
   "source": [
    "print(model.score(X_train, y_train))\n",
    "y_train_pred = model.predict(X_train)\n",
    "print(mean_squared_error(y_train, y_train_pred))\n",
    "#print(mean_squared_log_error(y_train, y_train_pred))"
   ]
  },
  {
   "cell_type": "code",
   "execution_count": 50,
   "metadata": {},
   "outputs": [
    {
     "name": "stdout",
     "output_type": "stream",
     "text": [
      "0.8510444731047673\n",
      "0.12339174484475399\n"
     ]
    }
   ],
   "source": [
    "print(model.score(X_test, y_test))\n",
    "y_test_pred = model.predict(X_test)\n",
    "print(mean_squared_error(y_test, y_test_pred))\n",
    "#print(mean_squared_log_error(y_test, y_test_pred))"
   ]
  },
  {
   "cell_type": "markdown",
   "metadata": {},
   "source": [
    "## Include dummy variables"
   ]
  },
  {
   "cell_type": "markdown",
   "metadata": {},
   "source": [
    "Your model hasn't included dummy variables so far: let's use the \"object\" variables again and create dummies"
   ]
  },
  {
   "cell_type": "code",
   "execution_count": 60,
   "metadata": {},
   "outputs": [
    {
     "data": {
      "text/html": [
       "<div>\n",
       "<style scoped>\n",
       "    .dataframe tbody tr th:only-of-type {\n",
       "        vertical-align: middle;\n",
       "    }\n",
       "\n",
       "    .dataframe tbody tr th {\n",
       "        vertical-align: top;\n",
       "    }\n",
       "\n",
       "    .dataframe thead th {\n",
       "        text-align: right;\n",
       "    }\n",
       "</style>\n",
       "<table border=\"1\" class=\"dataframe\">\n",
       "  <thead>\n",
       "    <tr style=\"text-align: right;\">\n",
       "      <th></th>\n",
       "      <th>Id</th>\n",
       "      <th>MSSubClass</th>\n",
       "      <th>LotFrontage</th>\n",
       "      <th>LotArea</th>\n",
       "      <th>OverallQual</th>\n",
       "      <th>OverallCond</th>\n",
       "      <th>YearBuilt</th>\n",
       "      <th>YearRemodAdd</th>\n",
       "      <th>MasVnrArea</th>\n",
       "      <th>BsmtFinSF1</th>\n",
       "      <th>...</th>\n",
       "      <th>WoodDeckSF</th>\n",
       "      <th>OpenPorchSF</th>\n",
       "      <th>EnclosedPorch</th>\n",
       "      <th>3SsnPorch</th>\n",
       "      <th>ScreenPorch</th>\n",
       "      <th>PoolArea</th>\n",
       "      <th>MiscVal</th>\n",
       "      <th>MoSold</th>\n",
       "      <th>YrSold</th>\n",
       "      <th>SalePrice</th>\n",
       "    </tr>\n",
       "  </thead>\n",
       "  <tbody>\n",
       "    <tr>\n",
       "      <th>0</th>\n",
       "      <td>1</td>\n",
       "      <td>60</td>\n",
       "      <td>65.0</td>\n",
       "      <td>8450</td>\n",
       "      <td>7</td>\n",
       "      <td>5</td>\n",
       "      <td>2003</td>\n",
       "      <td>2003</td>\n",
       "      <td>196.0</td>\n",
       "      <td>706</td>\n",
       "      <td>...</td>\n",
       "      <td>0</td>\n",
       "      <td>61</td>\n",
       "      <td>0</td>\n",
       "      <td>0</td>\n",
       "      <td>0</td>\n",
       "      <td>0</td>\n",
       "      <td>0</td>\n",
       "      <td>2</td>\n",
       "      <td>2008</td>\n",
       "      <td>208500</td>\n",
       "    </tr>\n",
       "    <tr>\n",
       "      <th>1</th>\n",
       "      <td>2</td>\n",
       "      <td>20</td>\n",
       "      <td>80.0</td>\n",
       "      <td>9600</td>\n",
       "      <td>6</td>\n",
       "      <td>8</td>\n",
       "      <td>1976</td>\n",
       "      <td>1976</td>\n",
       "      <td>0.0</td>\n",
       "      <td>978</td>\n",
       "      <td>...</td>\n",
       "      <td>298</td>\n",
       "      <td>0</td>\n",
       "      <td>0</td>\n",
       "      <td>0</td>\n",
       "      <td>0</td>\n",
       "      <td>0</td>\n",
       "      <td>0</td>\n",
       "      <td>5</td>\n",
       "      <td>2007</td>\n",
       "      <td>181500</td>\n",
       "    </tr>\n",
       "    <tr>\n",
       "      <th>2</th>\n",
       "      <td>3</td>\n",
       "      <td>60</td>\n",
       "      <td>68.0</td>\n",
       "      <td>11250</td>\n",
       "      <td>7</td>\n",
       "      <td>5</td>\n",
       "      <td>2001</td>\n",
       "      <td>2002</td>\n",
       "      <td>162.0</td>\n",
       "      <td>486</td>\n",
       "      <td>...</td>\n",
       "      <td>0</td>\n",
       "      <td>42</td>\n",
       "      <td>0</td>\n",
       "      <td>0</td>\n",
       "      <td>0</td>\n",
       "      <td>0</td>\n",
       "      <td>0</td>\n",
       "      <td>9</td>\n",
       "      <td>2008</td>\n",
       "      <td>223500</td>\n",
       "    </tr>\n",
       "    <tr>\n",
       "      <th>3</th>\n",
       "      <td>4</td>\n",
       "      <td>70</td>\n",
       "      <td>60.0</td>\n",
       "      <td>9550</td>\n",
       "      <td>7</td>\n",
       "      <td>5</td>\n",
       "      <td>1915</td>\n",
       "      <td>1970</td>\n",
       "      <td>0.0</td>\n",
       "      <td>216</td>\n",
       "      <td>...</td>\n",
       "      <td>0</td>\n",
       "      <td>35</td>\n",
       "      <td>272</td>\n",
       "      <td>0</td>\n",
       "      <td>0</td>\n",
       "      <td>0</td>\n",
       "      <td>0</td>\n",
       "      <td>2</td>\n",
       "      <td>2006</td>\n",
       "      <td>140000</td>\n",
       "    </tr>\n",
       "    <tr>\n",
       "      <th>4</th>\n",
       "      <td>5</td>\n",
       "      <td>60</td>\n",
       "      <td>84.0</td>\n",
       "      <td>14260</td>\n",
       "      <td>8</td>\n",
       "      <td>5</td>\n",
       "      <td>2000</td>\n",
       "      <td>2000</td>\n",
       "      <td>350.0</td>\n",
       "      <td>655</td>\n",
       "      <td>...</td>\n",
       "      <td>192</td>\n",
       "      <td>84</td>\n",
       "      <td>0</td>\n",
       "      <td>0</td>\n",
       "      <td>0</td>\n",
       "      <td>0</td>\n",
       "      <td>0</td>\n",
       "      <td>12</td>\n",
       "      <td>2008</td>\n",
       "      <td>250000</td>\n",
       "    </tr>\n",
       "  </tbody>\n",
       "</table>\n",
       "<p>5 rows × 38 columns</p>\n",
       "</div>"
      ],
      "text/plain": [
       "   Id  MSSubClass  LotFrontage  LotArea  OverallQual  OverallCond  YearBuilt  \\\n",
       "0   1          60         65.0     8450            7            5       2003   \n",
       "1   2          20         80.0     9600            6            8       1976   \n",
       "2   3          60         68.0    11250            7            5       2001   \n",
       "3   4          70         60.0     9550            7            5       1915   \n",
       "4   5          60         84.0    14260            8            5       2000   \n",
       "\n",
       "   YearRemodAdd  MasVnrArea  BsmtFinSF1    ...      WoodDeckSF  OpenPorchSF  \\\n",
       "0          2003       196.0         706    ...               0           61   \n",
       "1          1976         0.0         978    ...             298            0   \n",
       "2          2002       162.0         486    ...               0           42   \n",
       "3          1970         0.0         216    ...               0           35   \n",
       "4          2000       350.0         655    ...             192           84   \n",
       "\n",
       "   EnclosedPorch  3SsnPorch  ScreenPorch  PoolArea  MiscVal  MoSold  YrSold  \\\n",
       "0              0          0            0         0        0       2    2008   \n",
       "1              0          0            0         0        0       5    2007   \n",
       "2              0          0            0         0        0       9    2008   \n",
       "3            272          0            0         0        0       2    2006   \n",
       "4              0          0            0         0        0      12    2008   \n",
       "\n",
       "   SalePrice  \n",
       "0     208500  \n",
       "1     181500  \n",
       "2     223500  \n",
       "3     140000  \n",
       "4     250000  \n",
       "\n",
       "[5 rows x 38 columns]"
      ]
     },
     "execution_count": 60,
     "metadata": {},
     "output_type": "execute_result"
    }
   ],
   "source": [
    "df.head()"
   ]
  },
  {
   "cell_type": "code",
   "execution_count": 63,
   "metadata": {},
   "outputs": [],
   "source": [
    "# Create X_cat which contains only the categorical variables\n",
    "\n",
    "col_obj = []\n",
    "for fld in flds:\n",
    "    if fld[3] ==\"object\": col_obj.append(fld[0])\n",
    "\n",
    "X_cat = df[col_obj]"
   ]
  },
  {
   "cell_type": "code",
   "execution_count": 64,
   "metadata": {},
   "outputs": [],
   "source": [
    "# Make dummies\n",
    "X_cat = pd.get_dummies(X_cat)"
   ]
  },
  {
   "cell_type": "markdown",
   "metadata": {},
   "source": [
    "Merge `x_cat` together with our scaled `X` so you have one big predictor dataframe."
   ]
  },
  {
   "cell_type": "code",
   "execution_count": 65,
   "metadata": {},
   "outputs": [],
   "source": [
    "X2 = pd.concat([X, X_cat], axis=1)"
   ]
  },
  {
   "cell_type": "code",
   "execution_count": 66,
   "metadata": {},
   "outputs": [
    {
     "data": {
      "text/html": [
       "<div>\n",
       "<style scoped>\n",
       "    .dataframe tbody tr th:only-of-type {\n",
       "        vertical-align: middle;\n",
       "    }\n",
       "\n",
       "    .dataframe tbody tr th {\n",
       "        vertical-align: top;\n",
       "    }\n",
       "\n",
       "    .dataframe thead th {\n",
       "        text-align: right;\n",
       "    }\n",
       "</style>\n",
       "<table border=\"1\" class=\"dataframe\">\n",
       "  <thead>\n",
       "    <tr style=\"text-align: right;\">\n",
       "      <th></th>\n",
       "      <th>MSSubClass</th>\n",
       "      <th>LotFrontage</th>\n",
       "      <th>LotArea</th>\n",
       "      <th>OverallQual</th>\n",
       "      <th>OverallCond</th>\n",
       "      <th>YearBuilt</th>\n",
       "      <th>YearRemodAdd</th>\n",
       "      <th>MasVnrArea</th>\n",
       "      <th>BsmtFinSF1</th>\n",
       "      <th>BsmtFinSF2</th>\n",
       "      <th>...</th>\n",
       "      <th>GarageArea</th>\n",
       "      <th>WoodDeckSF</th>\n",
       "      <th>OpenPorchSF</th>\n",
       "      <th>EnclosedPorch</th>\n",
       "      <th>3SsnPorch</th>\n",
       "      <th>ScreenPorch</th>\n",
       "      <th>PoolArea</th>\n",
       "      <th>MiscVal</th>\n",
       "      <th>MoSold</th>\n",
       "      <th>YrSold</th>\n",
       "    </tr>\n",
       "  </thead>\n",
       "  <tbody>\n",
       "    <tr>\n",
       "      <th>0</th>\n",
       "      <td>0.092295</td>\n",
       "      <td>-0.233570</td>\n",
       "      <td>-0.205885</td>\n",
       "      <td>0.570704</td>\n",
       "      <td>-0.525499</td>\n",
       "      <td>0.992930</td>\n",
       "      <td>0.823953</td>\n",
       "      <td>0.462009</td>\n",
       "      <td>0.571581</td>\n",
       "      <td>-0.282645</td>\n",
       "      <td>...</td>\n",
       "      <td>0.235641</td>\n",
       "      <td>-0.760257</td>\n",
       "      <td>0.231036</td>\n",
       "      <td>-0.356622</td>\n",
       "      <td>-0.11253</td>\n",
       "      <td>-0.278676</td>\n",
       "      <td>-0.072999</td>\n",
       "      <td>-0.141407</td>\n",
       "      <td>-1.615345</td>\n",
       "      <td>0.153084</td>\n",
       "    </tr>\n",
       "    <tr>\n",
       "      <th>1</th>\n",
       "      <td>-0.865696</td>\n",
       "      <td>0.384834</td>\n",
       "      <td>-0.064358</td>\n",
       "      <td>-0.153825</td>\n",
       "      <td>2.284122</td>\n",
       "      <td>0.120665</td>\n",
       "      <td>-0.460746</td>\n",
       "      <td>-0.572748</td>\n",
       "      <td>1.152559</td>\n",
       "      <td>-0.282645</td>\n",
       "      <td>...</td>\n",
       "      <td>-0.224712</td>\n",
       "      <td>1.686090</td>\n",
       "      <td>-0.716739</td>\n",
       "      <td>-0.356622</td>\n",
       "      <td>-0.11253</td>\n",
       "      <td>-0.278676</td>\n",
       "      <td>-0.072999</td>\n",
       "      <td>-0.141407</td>\n",
       "      <td>-0.498715</td>\n",
       "      <td>-0.596291</td>\n",
       "    </tr>\n",
       "    <tr>\n",
       "      <th>2</th>\n",
       "      <td>0.092295</td>\n",
       "      <td>-0.109889</td>\n",
       "      <td>0.138702</td>\n",
       "      <td>0.570704</td>\n",
       "      <td>-0.525499</td>\n",
       "      <td>0.928317</td>\n",
       "      <td>0.776371</td>\n",
       "      <td>0.282510</td>\n",
       "      <td>0.101672</td>\n",
       "      <td>-0.282645</td>\n",
       "      <td>...</td>\n",
       "      <td>0.549518</td>\n",
       "      <td>-0.760257</td>\n",
       "      <td>-0.064173</td>\n",
       "      <td>-0.356622</td>\n",
       "      <td>-0.11253</td>\n",
       "      <td>-0.278676</td>\n",
       "      <td>-0.072999</td>\n",
       "      <td>-0.141407</td>\n",
       "      <td>0.990125</td>\n",
       "      <td>0.153084</td>\n",
       "    </tr>\n",
       "    <tr>\n",
       "      <th>3</th>\n",
       "      <td>0.331793</td>\n",
       "      <td>-0.439705</td>\n",
       "      <td>-0.070512</td>\n",
       "      <td>0.570704</td>\n",
       "      <td>-0.525499</td>\n",
       "      <td>-1.850006</td>\n",
       "      <td>-0.746235</td>\n",
       "      <td>-0.572748</td>\n",
       "      <td>-0.475034</td>\n",
       "      <td>-0.282645</td>\n",
       "      <td>...</td>\n",
       "      <td>0.727382</td>\n",
       "      <td>-0.760257</td>\n",
       "      <td>-0.172934</td>\n",
       "      <td>4.083851</td>\n",
       "      <td>-0.11253</td>\n",
       "      <td>-0.278676</td>\n",
       "      <td>-0.072999</td>\n",
       "      <td>-0.141407</td>\n",
       "      <td>-1.615345</td>\n",
       "      <td>-1.345665</td>\n",
       "    </tr>\n",
       "    <tr>\n",
       "      <th>4</th>\n",
       "      <td>0.092295</td>\n",
       "      <td>0.549742</td>\n",
       "      <td>0.509132</td>\n",
       "      <td>1.295234</td>\n",
       "      <td>-0.525499</td>\n",
       "      <td>0.896011</td>\n",
       "      <td>0.681208</td>\n",
       "      <td>1.275032</td>\n",
       "      <td>0.462647</td>\n",
       "      <td>-0.282645</td>\n",
       "      <td>...</td>\n",
       "      <td>1.742250</td>\n",
       "      <td>0.815913</td>\n",
       "      <td>0.588393</td>\n",
       "      <td>-0.356622</td>\n",
       "      <td>-0.11253</td>\n",
       "      <td>-0.278676</td>\n",
       "      <td>-0.072999</td>\n",
       "      <td>-0.141407</td>\n",
       "      <td>2.106755</td>\n",
       "      <td>0.153084</td>\n",
       "    </tr>\n",
       "  </tbody>\n",
       "</table>\n",
       "<p>5 rows × 36 columns</p>\n",
       "</div>"
      ],
      "text/plain": [
       "   MSSubClass  LotFrontage   LotArea  OverallQual  OverallCond  YearBuilt  \\\n",
       "0    0.092295    -0.233570 -0.205885     0.570704    -0.525499   0.992930   \n",
       "1   -0.865696     0.384834 -0.064358    -0.153825     2.284122   0.120665   \n",
       "2    0.092295    -0.109889  0.138702     0.570704    -0.525499   0.928317   \n",
       "3    0.331793    -0.439705 -0.070512     0.570704    -0.525499  -1.850006   \n",
       "4    0.092295     0.549742  0.509132     1.295234    -0.525499   0.896011   \n",
       "\n",
       "   YearRemodAdd  MasVnrArea  BsmtFinSF1  BsmtFinSF2    ...     GarageArea  \\\n",
       "0      0.823953    0.462009    0.571581   -0.282645    ...       0.235641   \n",
       "1     -0.460746   -0.572748    1.152559   -0.282645    ...      -0.224712   \n",
       "2      0.776371    0.282510    0.101672   -0.282645    ...       0.549518   \n",
       "3     -0.746235   -0.572748   -0.475034   -0.282645    ...       0.727382   \n",
       "4      0.681208    1.275032    0.462647   -0.282645    ...       1.742250   \n",
       "\n",
       "   WoodDeckSF  OpenPorchSF  EnclosedPorch  3SsnPorch  ScreenPorch  PoolArea  \\\n",
       "0   -0.760257     0.231036      -0.356622   -0.11253    -0.278676 -0.072999   \n",
       "1    1.686090    -0.716739      -0.356622   -0.11253    -0.278676 -0.072999   \n",
       "2   -0.760257    -0.064173      -0.356622   -0.11253    -0.278676 -0.072999   \n",
       "3   -0.760257    -0.172934       4.083851   -0.11253    -0.278676 -0.072999   \n",
       "4    0.815913     0.588393      -0.356622   -0.11253    -0.278676 -0.072999   \n",
       "\n",
       "    MiscVal    MoSold    YrSold  \n",
       "0 -0.141407 -1.615345  0.153084  \n",
       "1 -0.141407 -0.498715 -0.596291  \n",
       "2 -0.141407  0.990125  0.153084  \n",
       "3 -0.141407 -1.615345 -1.345665  \n",
       "4 -0.141407  2.106755  0.153084  \n",
       "\n",
       "[5 rows x 36 columns]"
      ]
     },
     "execution_count": 66,
     "metadata": {},
     "output_type": "execute_result"
    }
   ],
   "source": [
    "X2.head()"
   ]
  },
  {
   "cell_type": "markdown",
   "metadata": {},
   "source": [
    "Perform the same linear regression on this data and print out R-squared and MSE."
   ]
  },
  {
   "cell_type": "code",
   "execution_count": 67,
   "metadata": {},
   "outputs": [
    {
     "name": "stdout",
     "output_type": "stream",
     "text": [
      "1121\n",
      "1121\n"
     ]
    }
   ],
   "source": [
    "print(len(X2))\n",
    "print(len(y))"
   ]
  },
  {
   "cell_type": "code",
   "execution_count": 68,
   "metadata": {},
   "outputs": [],
   "source": [
    "X_train, X_test, y_train, y_test = train_test_split(X2, y, test_size = 0.2)\n"
   ]
  },
  {
   "cell_type": "code",
   "execution_count": 69,
   "metadata": {},
   "outputs": [
    {
     "data": {
      "text/plain": [
       "LinearRegression(copy_X=True, fit_intercept=True, n_jobs=None,\n",
       "         normalize=False)"
      ]
     },
     "execution_count": 69,
     "metadata": {},
     "output_type": "execute_result"
    }
   ],
   "source": [
    "model = LinearRegression()\n",
    "model.fit(X_train, y_train)"
   ]
  },
  {
   "cell_type": "code",
   "execution_count": 70,
   "metadata": {},
   "outputs": [
    {
     "name": "stdout",
     "output_type": "stream",
     "text": [
      "0.8441249651087988\n",
      "0.15865626514997405\n"
     ]
    }
   ],
   "source": [
    "print(model.score(X_train, y_train))\n",
    "y_train_pred = model.predict(X_train)\n",
    "print(mean_squared_error(y_train, y_train_pred))\n",
    "#print(mean_squared_log_error(y_train, y_train_pred))"
   ]
  },
  {
   "cell_type": "code",
   "execution_count": 71,
   "metadata": {},
   "outputs": [
    {
     "name": "stdout",
     "output_type": "stream",
     "text": [
      "0.5338718248271033\n",
      "0.4267865429986288\n"
     ]
    }
   ],
   "source": [
    "print(model.score(X_test, y_test))\n",
    "y_test_pred = model.predict(X_test)\n",
    "print(mean_squared_error(y_test, y_test_pred))\n",
    "#print(mean_squared_log_error(y_test, y_test_pred))"
   ]
  },
  {
   "cell_type": "markdown",
   "metadata": {},
   "source": [
    "Notice the severe overfitting above; our training R squared is quite high, but the testing R squared is negative! Our predictions are far off. Similarly, the scale of the Testing MSE is orders of magnitude higher than that of the training."
   ]
  },
  {
   "cell_type": "markdown",
   "metadata": {},
   "source": [
    "## Perform Ridge and Lasso regression"
   ]
  },
  {
   "cell_type": "markdown",
   "metadata": {},
   "source": [
    "Use all the data (normalized features and dummy categorical variables) and perform Lasso and Ridge regression for both! Each time, look at R-squared and MSE."
   ]
  },
  {
   "cell_type": "markdown",
   "metadata": {},
   "source": [
    "## Lasso"
   ]
  },
  {
   "cell_type": "markdown",
   "metadata": {},
   "source": [
    "With default parameter (alpha = 1)"
   ]
  },
  {
   "cell_type": "code",
   "execution_count": null,
   "metadata": {},
   "outputs": [],
   "source": []
  },
  {
   "cell_type": "code",
   "execution_count": null,
   "metadata": {},
   "outputs": [],
   "source": [
    "model = LinearRegression()\n",
    "model.fit(X_train, y_train)"
   ]
  },
  {
   "cell_type": "markdown",
   "metadata": {},
   "source": [
    "With a higher regularization parameter (alpha = 10)"
   ]
  },
  {
   "cell_type": "code",
   "execution_count": null,
   "metadata": {},
   "outputs": [],
   "source": [
    "# Your code here"
   ]
  },
  {
   "cell_type": "markdown",
   "metadata": {},
   "source": [
    "## Ridge"
   ]
  },
  {
   "cell_type": "markdown",
   "metadata": {},
   "source": [
    "With default parameter (alpha = 1)"
   ]
  },
  {
   "cell_type": "code",
   "execution_count": null,
   "metadata": {},
   "outputs": [],
   "source": [
    "# Your code here"
   ]
  },
  {
   "cell_type": "markdown",
   "metadata": {},
   "source": [
    "With default parameter (alpha = 10)"
   ]
  },
  {
   "cell_type": "code",
   "execution_count": null,
   "metadata": {},
   "outputs": [],
   "source": [
    "# Your code here"
   ]
  },
  {
   "cell_type": "markdown",
   "metadata": {},
   "source": [
    "## Look at the metrics, what are your main conclusions?   \n",
    "\n",
    "Conclusions here"
   ]
  },
  {
   "cell_type": "markdown",
   "metadata": {},
   "source": [
    "## Compare number of parameter estimates that are (very close to) 0 for Ridge and Lasso"
   ]
  },
  {
   "cell_type": "markdown",
   "metadata": {},
   "source": [
    "Compare with the total length of the parameter space and draw conclusions!"
   ]
  },
  {
   "cell_type": "code",
   "execution_count": null,
   "metadata": {},
   "outputs": [],
   "source": [
    "# number of Ridge params almost zero"
   ]
  },
  {
   "cell_type": "code",
   "execution_count": null,
   "metadata": {},
   "outputs": [],
   "source": [
    "# number of Lasso params almost zero"
   ]
  },
  {
   "cell_type": "markdown",
   "metadata": {},
   "source": [
    "Lasso was very effective to essentially perform variable selection and remove about 25% of the variables from your model!"
   ]
  },
  {
   "cell_type": "code",
   "execution_count": null,
   "metadata": {},
   "outputs": [],
   "source": [
    "# your code here"
   ]
  },
  {
   "cell_type": "markdown",
   "metadata": {},
   "source": [
    "## Summary"
   ]
  },
  {
   "cell_type": "markdown",
   "metadata": {},
   "source": [
    "Great! You now know how to perform Lasso and Ridge regression."
   ]
  }
 ],
 "metadata": {
  "kernelspec": {
   "display_name": "Python 3",
   "language": "python",
   "name": "python3"
  },
  "language_info": {
   "codemirror_mode": {
    "name": "ipython",
    "version": 3
   },
   "file_extension": ".py",
   "mimetype": "text/x-python",
   "name": "python",
   "nbconvert_exporter": "python",
   "pygments_lexer": "ipython3",
   "version": "3.6.6"
  }
 },
 "nbformat": 4,
 "nbformat_minor": 2
}
